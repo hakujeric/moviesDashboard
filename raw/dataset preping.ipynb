{
 "cells": [
  {
   "cell_type": "code",
   "execution_count": 13,
   "metadata": {},
   "outputs": [],
   "source": [
    "import pandas as pd\n",
    "import os\n",
    "import csv\n",
    "import numpy\n",
    "import json\n",
    "import requests\n",
    "# Import SQL Alchemy\n",
    "from sqlalchemy import create_engine\n",
    "# Import and establish Base for which classes will be constructed \n",
    "from sqlalchemy.ext.declarative import declarative_base\n",
    "Base = declarative_base()\n",
    "# Import modules to declare columns and column data types\n",
    "from sqlalchemy import Column, Integer, String, Float"
   ]
  },
  {
   "cell_type": "markdown",
   "metadata": {},
   "source": [
    "## Clean csv"
   ]
  },
  {
   "cell_type": "code",
   "execution_count": 63,
   "metadata": {},
   "outputs": [],
   "source": [
    "df_1 = pd.read_csv(\"movies_metadata.csv\")"
   ]
  },
  {
   "cell_type": "code",
   "execution_count": 58,
   "metadata": {
    "scrolled": true
   },
   "outputs": [
    {
     "data": {
      "text/plain": [
       "Index(['Unnamed: 0', 'id', 'imdb_id', 'title', 'release_date',\n",
       "       'spoken_languages', 'genres', 'runtime', 'production_companies',\n",
       "       'production_countries', 'budget', 'revenue', 'overview', 'tagline',\n",
       "       'vote_average', 'vote_count', 'homepage', 'popularity'],\n",
       "      dtype='object')"
      ]
     },
     "execution_count": 58,
     "metadata": {},
     "output_type": "execute_result"
    }
   ],
   "source": [
    "df_1.keys()"
   ]
  },
  {
   "cell_type": "code",
   "execution_count": 60,
   "metadata": {},
   "outputs": [],
   "source": [
    "df_1=df_1[['id','imdb_id','title','release_date','spoken_languages',\n",
    "           'genres','runtime','production_companies','production_countries',\n",
    "           'budget','revenue','overview','tagline','vote_average','vote_count','homepage','popularity']]"
   ]
  },
  {
   "cell_type": "code",
   "execution_count": 64,
   "metadata": {},
   "outputs": [
    {
     "data": {
      "text/html": [
       "<div>\n",
       "<style scoped>\n",
       "    .dataframe tbody tr th:only-of-type {\n",
       "        vertical-align: middle;\n",
       "    }\n",
       "\n",
       "    .dataframe tbody tr th {\n",
       "        vertical-align: top;\n",
       "    }\n",
       "\n",
       "    .dataframe thead th {\n",
       "        text-align: right;\n",
       "    }\n",
       "</style>\n",
       "<table border=\"1\" class=\"dataframe\">\n",
       "  <thead>\n",
       "    <tr style=\"text-align: right;\">\n",
       "      <th></th>\n",
       "      <th>id</th>\n",
       "      <th>imdb_id</th>\n",
       "      <th>title</th>\n",
       "      <th>release_date</th>\n",
       "      <th>spoken_languages</th>\n",
       "      <th>genres</th>\n",
       "      <th>runtime</th>\n",
       "      <th>production_companies</th>\n",
       "      <th>production_countries</th>\n",
       "      <th>budget</th>\n",
       "      <th>revenue</th>\n",
       "      <th>overview</th>\n",
       "      <th>tagline</th>\n",
       "      <th>vote_average</th>\n",
       "      <th>vote_count</th>\n",
       "      <th>homepage</th>\n",
       "      <th>popularity</th>\n",
       "    </tr>\n",
       "  </thead>\n",
       "  <tbody>\n",
       "    <tr>\n",
       "      <th>0</th>\n",
       "      <td>329440</td>\n",
       "      <td>tt3387542</td>\n",
       "      <td>The Forest</td>\n",
       "      <td>1/7/2016</td>\n",
       "      <td>[{'iso_639_1': 'en', 'name': 'English'}]</td>\n",
       "      <td>[{'id': 27, 'name': 'Horror'}, {'id': 53, 'nam...</td>\n",
       "      <td>95</td>\n",
       "      <td>[{'name': 'Lava Bear Films', 'id': 32300}, {'n...</td>\n",
       "      <td>[{'iso_3166_1': 'US', 'name': 'United States o...</td>\n",
       "      <td>10000000</td>\n",
       "      <td>40055439</td>\n",
       "      <td>Set in the Aokigahara Forest, a real-life plac...</td>\n",
       "      <td>Everyone comes here looking for a way out</td>\n",
       "      <td>4.8</td>\n",
       "      <td>478</td>\n",
       "      <td>http://theforestisreal.com/</td>\n",
       "      <td>7.384688</td>\n",
       "    </tr>\n",
       "    <tr>\n",
       "      <th>1</th>\n",
       "      <td>368031</td>\n",
       "      <td>tt3352390</td>\n",
       "      <td>Friend Request</td>\n",
       "      <td>1/7/2016</td>\n",
       "      <td>[{'iso_639_1': 'en', 'name': 'English'}]</td>\n",
       "      <td>[{'id': 27, 'name': 'Horror'}, {'id': 53, 'nam...</td>\n",
       "      <td>92</td>\n",
       "      <td>[{'name': 'Wiedemann &amp; Berg Filmproduktion', '...</td>\n",
       "      <td>[{'iso_3166_1': 'DE', 'name': 'Germany'}, {'is...</td>\n",
       "      <td>9900000</td>\n",
       "      <td>2400000</td>\n",
       "      <td>Enjoying college life as a popular student, La...</td>\n",
       "      <td>Be careful who you click with.</td>\n",
       "      <td>5.3</td>\n",
       "      <td>376</td>\n",
       "      <td>http://www.w-b-film.de/</td>\n",
       "      <td>14.282584</td>\n",
       "    </tr>\n",
       "    <tr>\n",
       "      <th>2</th>\n",
       "      <td>300671</td>\n",
       "      <td>tt4172430</td>\n",
       "      <td>13 Hours: The Secret Soldiers of Benghazi</td>\n",
       "      <td>1/13/2016</td>\n",
       "      <td>[{'iso_639_1': 'ar', 'name': 'العربية'}, {'iso...</td>\n",
       "      <td>[{'id': 28, 'name': 'Action'}, {'id': 18, 'nam...</td>\n",
       "      <td>144</td>\n",
       "      <td>[{'name': 'Paramount Pictures', 'id': 4}, {'na...</td>\n",
       "      <td>[{'iso_3166_1': 'MT', 'name': 'Malta'}, {'iso_...</td>\n",
       "      <td>50000000</td>\n",
       "      <td>69411370</td>\n",
       "      <td>An American Ambassador is killed during an att...</td>\n",
       "      <td>When everything went wrong, six men had the co...</td>\n",
       "      <td>7.0</td>\n",
       "      <td>963</td>\n",
       "      <td>http://www.thirteenhoursmovie.com/</td>\n",
       "      <td>18.022579</td>\n",
       "    </tr>\n",
       "    <tr>\n",
       "      <th>3</th>\n",
       "      <td>299687</td>\n",
       "      <td>tt2304933</td>\n",
       "      <td>The 5th Wave</td>\n",
       "      <td>1/14/2016</td>\n",
       "      <td>[{'iso_639_1': 'en', 'name': 'English'}]</td>\n",
       "      <td>[{'id': 12, 'name': 'Adventure'}, {'id': 878, ...</td>\n",
       "      <td>112</td>\n",
       "      <td>[{'name': 'Columbia Pictures', 'id': 5}, {'nam...</td>\n",
       "      <td>[{'iso_3166_1': 'US', 'name': 'United States o...</td>\n",
       "      <td>38000000</td>\n",
       "      <td>109906372</td>\n",
       "      <td>16-year-old Cassie Sullivan tries to survive i...</td>\n",
       "      <td>Protect Your Own</td>\n",
       "      <td>5.6</td>\n",
       "      <td>1993</td>\n",
       "      <td>https://www.facebook.com/5thWaveMovie/</td>\n",
       "      <td>10.788263</td>\n",
       "    </tr>\n",
       "    <tr>\n",
       "      <th>4</th>\n",
       "      <td>276905</td>\n",
       "      <td>tt1594972</td>\n",
       "      <td>Norm of the North</td>\n",
       "      <td>1/14/2016</td>\n",
       "      <td>[{'iso_639_1': 'en', 'name': 'English'}]</td>\n",
       "      <td>[{'id': 12, 'name': 'Adventure'}, {'id': 16, '...</td>\n",
       "      <td>86</td>\n",
       "      <td>[{'name': 'Lionsgate', 'id': 1632}, {'name': '...</td>\n",
       "      <td>[{'iso_3166_1': 'US', 'name': 'United States o...</td>\n",
       "      <td>18000000</td>\n",
       "      <td>17062499</td>\n",
       "      <td>The stereoscopic 3D animated family film \"Norm...</td>\n",
       "      <td>Bear to be different</td>\n",
       "      <td>4.1</td>\n",
       "      <td>124</td>\n",
       "      <td>http://www.normofthenorth.movie</td>\n",
       "      <td>7.008103</td>\n",
       "    </tr>\n",
       "  </tbody>\n",
       "</table>\n",
       "</div>"
      ],
      "text/plain": [
       "       id    imdb_id                                      title release_date  \\\n",
       "0  329440  tt3387542                                 The Forest     1/7/2016   \n",
       "1  368031  tt3352390                             Friend Request     1/7/2016   \n",
       "2  300671  tt4172430  13 Hours: The Secret Soldiers of Benghazi    1/13/2016   \n",
       "3  299687  tt2304933                               The 5th Wave    1/14/2016   \n",
       "4  276905  tt1594972                          Norm of the North    1/14/2016   \n",
       "\n",
       "                                    spoken_languages  \\\n",
       "0           [{'iso_639_1': 'en', 'name': 'English'}]   \n",
       "1           [{'iso_639_1': 'en', 'name': 'English'}]   \n",
       "2  [{'iso_639_1': 'ar', 'name': 'العربية'}, {'iso...   \n",
       "3           [{'iso_639_1': 'en', 'name': 'English'}]   \n",
       "4           [{'iso_639_1': 'en', 'name': 'English'}]   \n",
       "\n",
       "                                              genres  runtime  \\\n",
       "0  [{'id': 27, 'name': 'Horror'}, {'id': 53, 'nam...       95   \n",
       "1  [{'id': 27, 'name': 'Horror'}, {'id': 53, 'nam...       92   \n",
       "2  [{'id': 28, 'name': 'Action'}, {'id': 18, 'nam...      144   \n",
       "3  [{'id': 12, 'name': 'Adventure'}, {'id': 878, ...      112   \n",
       "4  [{'id': 12, 'name': 'Adventure'}, {'id': 16, '...       86   \n",
       "\n",
       "                                production_companies  \\\n",
       "0  [{'name': 'Lava Bear Films', 'id': 32300}, {'n...   \n",
       "1  [{'name': 'Wiedemann & Berg Filmproduktion', '...   \n",
       "2  [{'name': 'Paramount Pictures', 'id': 4}, {'na...   \n",
       "3  [{'name': 'Columbia Pictures', 'id': 5}, {'nam...   \n",
       "4  [{'name': 'Lionsgate', 'id': 1632}, {'name': '...   \n",
       "\n",
       "                                production_countries    budget    revenue  \\\n",
       "0  [{'iso_3166_1': 'US', 'name': 'United States o...  10000000   40055439   \n",
       "1  [{'iso_3166_1': 'DE', 'name': 'Germany'}, {'is...   9900000    2400000   \n",
       "2  [{'iso_3166_1': 'MT', 'name': 'Malta'}, {'iso_...  50000000   69411370   \n",
       "3  [{'iso_3166_1': 'US', 'name': 'United States o...  38000000  109906372   \n",
       "4  [{'iso_3166_1': 'US', 'name': 'United States o...  18000000   17062499   \n",
       "\n",
       "                                            overview  \\\n",
       "0  Set in the Aokigahara Forest, a real-life plac...   \n",
       "1  Enjoying college life as a popular student, La...   \n",
       "2  An American Ambassador is killed during an att...   \n",
       "3  16-year-old Cassie Sullivan tries to survive i...   \n",
       "4  The stereoscopic 3D animated family film \"Norm...   \n",
       "\n",
       "                                             tagline  vote_average  \\\n",
       "0          Everyone comes here looking for a way out           4.8   \n",
       "1                     Be careful who you click with.           5.3   \n",
       "2  When everything went wrong, six men had the co...           7.0   \n",
       "3                                   Protect Your Own           5.6   \n",
       "4                               Bear to be different           4.1   \n",
       "\n",
       "   vote_count                                homepage  popularity  \n",
       "0         478             http://theforestisreal.com/    7.384688  \n",
       "1         376                 http://www.w-b-film.de/   14.282584  \n",
       "2         963      http://www.thirteenhoursmovie.com/   18.022579  \n",
       "3        1993  https://www.facebook.com/5thWaveMovie/   10.788263  \n",
       "4         124         http://www.normofthenorth.movie    7.008103  "
      ]
     },
     "execution_count": 64,
     "metadata": {},
     "output_type": "execute_result"
    }
   ],
   "source": [
    "df_1.head()"
   ]
  },
  {
   "cell_type": "code",
   "execution_count": 6,
   "metadata": {
    "scrolled": false
   },
   "outputs": [
    {
     "data": {
      "text/plain": [
       "id                      193\n",
       "imdb_id                 193\n",
       "title                   193\n",
       "release_date            193\n",
       "spoken_languages        193\n",
       "genres                  193\n",
       "runtime                 193\n",
       "production_companies    193\n",
       "production_countries    193\n",
       "budget                  193\n",
       "revenue                 193\n",
       "overview                193\n",
       "tagline                 193\n",
       "vote_average            193\n",
       "vote_count              193\n",
       "homepage                193\n",
       "popularity              193\n",
       "dtype: int64"
      ]
     },
     "execution_count": 6,
     "metadata": {},
     "output_type": "execute_result"
    }
   ],
   "source": [
    "df_1.count()"
   ]
  },
  {
   "cell_type": "code",
   "execution_count": 10,
   "metadata": {
    "scrolled": true
   },
   "outputs": [
    {
     "data": {
      "text/plain": [
       "0      tt3387542\n",
       "1      tt3352390\n",
       "2      tt4172430\n",
       "3      tt2304933\n",
       "4      tt1594972\n",
       "5      tt2869728\n",
       "6      tt1292566\n",
       "7      tt1860213\n",
       "8      tt3859304\n",
       "9      tt3882082\n",
       "10     tt2267968\n",
       "11     tt2025690\n",
       "12     tt4667094\n",
       "13     tt1374989\n",
       "14     tt3797868\n",
       "15     tt4731008\n",
       "16     tt5320514\n",
       "17     tt0475290\n",
       "18     tt1490785\n",
       "19     tt1608290\n",
       "20     tt4701660\n",
       "21     tt1431045\n",
       "22     tt2948356\n",
       "23     tt2649554\n",
       "24     tt4005402\n",
       "25     tt4263482\n",
       "26     tt1712261\n",
       "27     tt5286444\n",
       "28     tt1083452\n",
       "29     tt3300542\n",
       "         ...    \n",
       "163    tt3731562\n",
       "164    tt2771200\n",
       "165    tt2062700\n",
       "166    tt5442430\n",
       "167    tt3874544\n",
       "168    tt3717490\n",
       "169    tt0493405\n",
       "170    tt1219827\n",
       "171    tt1730768\n",
       "172    tt4630562\n",
       "173    tt3896198\n",
       "174    tt6574272\n",
       "175    tt4287320\n",
       "176    tt1972591\n",
       "177    tt2316204\n",
       "178    tt1469304\n",
       "179    tt0451279\n",
       "180    tt2345759\n",
       "181    tt2932536\n",
       "182    tt3606752\n",
       "183    tt4799050\n",
       "184    tt3469046\n",
       "185    tt4572792\n",
       "186    tt3371366\n",
       "187    tt5592248\n",
       "188    tt6265828\n",
       "189    tt3450958\n",
       "190    tt5013056\n",
       "191    tt4877122\n",
       "192    tt1648190\n",
       "Name: imdb_id, Length: 193, dtype: object"
      ]
     },
     "execution_count": 10,
     "metadata": {},
     "output_type": "execute_result"
    }
   ],
   "source": [
    "movie_list=df_1[\"imdb_id\"]\n",
    "movie_list"
   ]
  },
  {
   "cell_type": "code",
   "execution_count": 62,
   "metadata": {},
   "outputs": [],
   "source": [
    "df_1.to_csv(\"movies_metadata.csv\")"
   ]
  },
  {
   "cell_type": "markdown",
   "metadata": {},
   "source": [
    "## API OMDB"
   ]
  },
  {
   "cell_type": "code",
   "execution_count": 23,
   "metadata": {},
   "outputs": [],
   "source": [
    "# from api_key import api_key"
   ]
  },
  {
   "cell_type": "code",
   "execution_count": 82,
   "metadata": {},
   "outputs": [],
   "source": [
    "api_key = \"e6bf2ec\"\n",
    "base_url = \"http://www.omdbapi.com/?apikey=\"+api_key+\"&i=\""
   ]
  },
  {
   "cell_type": "code",
   "execution_count": 71,
   "metadata": {},
   "outputs": [],
   "source": [
    "test=[movie_list[0],movie_list[1]]\n",
    "test_url=base_url+test[0]"
   ]
  },
  {
   "cell_type": "code",
   "execution_count": 72,
   "metadata": {},
   "outputs": [
    {
     "data": {
      "text/plain": [
       "dict_keys(['Title', 'Year', 'Rated', 'Released', 'Runtime', 'Genre', 'Director', 'Writer', 'Actors', 'Plot', 'Language', 'Country', 'Awards', 'Poster', 'Ratings', 'Metascore', 'imdbRating', 'imdbVotes', 'imdbID', 'Type', 'DVD', 'BoxOffice', 'Production', 'Website', 'Response'])"
      ]
     },
     "execution_count": 72,
     "metadata": {},
     "output_type": "execute_result"
    }
   ],
   "source": [
    "test_re=requests.get(test_url).json()\n",
    "test_re.keys()"
   ]
  },
  {
   "cell_type": "code",
   "execution_count": 69,
   "metadata": {},
   "outputs": [
    {
     "data": {
      "text/plain": [
       "'Gramercy Pictures'"
      ]
     },
     "execution_count": 69,
     "metadata": {},
     "output_type": "execute_result"
    }
   ],
   "source": [
    "test_re[\"Director\"]\n",
    "test_re[\"Writer\"]\n",
    "test_re[\"Actors\"]\n",
    "test_re[\"Poster\"]\n",
    "test_re[\"Ratings\"]\n",
    "test_re[\"BoxOffice\"]\n",
    "test_re[\"Production\"]"
   ]
  },
  {
   "cell_type": "code",
   "execution_count": null,
   "metadata": {},
   "outputs": [],
   "source": []
  },
  {
   "cell_type": "code",
   "execution_count": 73,
   "metadata": {},
   "outputs": [],
   "source": [
    "scrape_data=[]"
   ]
  },
  {
   "cell_type": "code",
   "execution_count": 86,
   "metadata": {},
   "outputs": [
    {
     "name": "stdout",
     "output_type": "stream",
     "text": [
      "Beginning Data Retrieval     \n",
      "-----------------------------\n",
      "-----------------------------\n",
      "Data Retrieval Complete      \n",
      "-----------------------------\n"
     ]
    }
   ],
   "source": [
    "# List of movie ID data\n",
    "movie_list\n",
    "\n",
    "# Print to logger\n",
    "print(\"Beginning Data Retrieval     \")\n",
    "print(\"-----------------------------\")\n",
    "\n",
    "# Create counters\n",
    "record_count = 1\n",
    "\n",
    "# Loop through all the movies in our list\n",
    "for movie in movie_list:\n",
    "        \n",
    "    # Create endpoint URL with each movie\n",
    "    movie_url = base_url + str(movie)\n",
    "    \n",
    "    # Add 1 to the record count\n",
    "    record_count += 1\n",
    "    \n",
    "#     Run an API request for each of the movies\n",
    "    try:\n",
    "        # Parse the JSON and retrieve data\n",
    "        movie_result = requests.get(movie_url).json()\n",
    "\n",
    "        # Parse out the necessary information\n",
    "        \n",
    "        movie_director=movie_result[\"Director\"]\n",
    "        movie_writer=movie_result[\"Writer\"]\n",
    "        movie_actors=movie_result[\"Actors\"]\n",
    "        movie_posterL=movie_result[\"Poster\"]\n",
    "        movie_ratings=movie_result[\"Ratings\"]\n",
    "        movie_box=movie_result[\"BoxOffice\"]\n",
    "        movie_production=movie_result[\"Production\"]\n",
    "\n",
    "        # Append the movie information into scrape_data list\n",
    "        scrape_data.append({\"director\": movie_director, \n",
    "                          \"writer\": movie_writer, \n",
    "                          \"actors\": movie_actors, \n",
    "                          \"poster_link\": movie_posterL,\n",
    "                          \"ratings\": movie_ratings,\n",
    "                          \"boxoffice\": movie_box,\n",
    "                          \"production_company\": movie_production})\n",
    "\n",
    "    # If an error is experienced, skip the city\n",
    "    except:\n",
    "        print(\"Movie not found. Skipping...\")\n",
    "        pass\n",
    "              \n",
    "# Indicate that Data Loading is complete \n",
    "print(\"-----------------------------\")\n",
    "print(\"Data Retrieval Complete      \")\n",
    "print(\"-----------------------------\")"
   ]
  },
  {
   "cell_type": "code",
   "execution_count": 90,
   "metadata": {},
   "outputs": [
    {
     "data": {
      "text/plain": [
       "193"
      ]
     },
     "execution_count": 90,
     "metadata": {},
     "output_type": "execute_result"
    }
   ],
   "source": [
    "len(scrape_data)"
   ]
  },
  {
   "cell_type": "code",
   "execution_count": 91,
   "metadata": {},
   "outputs": [
    {
     "data": {
      "text/plain": [
       "{'director': 'Simon Verhoeven',\n",
       " 'writer': 'Matthew Ballen, Philip Koch, Simon Verhoeven',\n",
       " 'actors': 'Alycia Debnam-Carey, William Moseley, Connor Paolo, Brit Morgan',\n",
       " 'poster_link': 'https://m.media-amazon.com/images/M/MV5BNGFhZjQ5OTEtY2FlMy00OWM5LTlkYjAtZGUyNTE2YmVkYjc0XkEyXkFqcGdeQXVyNjkwMzU3NDI@._V1_SX300.jpg',\n",
       " 'ratings': [{'Source': 'Internet Movie Database', 'Value': '5.3/10'},\n",
       "  {'Source': 'Rotten Tomatoes', 'Value': '17%'},\n",
       "  {'Source': 'Metacritic', 'Value': '31/100'}],\n",
       " 'boxoffice': '$3,758,792',\n",
       " 'production_company': 'Entertainment Studios Motion Pictures'}"
      ]
     },
     "execution_count": 91,
     "metadata": {},
     "output_type": "execute_result"
    }
   ],
   "source": [
    "scrape_data[1]"
   ]
  },
  {
   "cell_type": "code",
   "execution_count": 95,
   "metadata": {},
   "outputs": [],
   "source": [
    "scrape_df=pd.DataFrame(scrape_data)"
   ]
  },
  {
   "cell_type": "code",
   "execution_count": 96,
   "metadata": {},
   "outputs": [
    {
     "data": {
      "text/html": [
       "<div>\n",
       "<style scoped>\n",
       "    .dataframe tbody tr th:only-of-type {\n",
       "        vertical-align: middle;\n",
       "    }\n",
       "\n",
       "    .dataframe tbody tr th {\n",
       "        vertical-align: top;\n",
       "    }\n",
       "\n",
       "    .dataframe thead th {\n",
       "        text-align: right;\n",
       "    }\n",
       "</style>\n",
       "<table border=\"1\" class=\"dataframe\">\n",
       "  <thead>\n",
       "    <tr style=\"text-align: right;\">\n",
       "      <th></th>\n",
       "      <th>actors</th>\n",
       "      <th>boxoffice</th>\n",
       "      <th>director</th>\n",
       "      <th>poster_link</th>\n",
       "      <th>production_company</th>\n",
       "      <th>ratings</th>\n",
       "      <th>writer</th>\n",
       "    </tr>\n",
       "  </thead>\n",
       "  <tbody>\n",
       "    <tr>\n",
       "      <th>0</th>\n",
       "      <td>Natalie Dormer, Eoin Macken, Stephanie Vogt, O...</td>\n",
       "      <td>$21,818,536</td>\n",
       "      <td>Jason Zada</td>\n",
       "      <td>https://m.media-amazon.com/images/M/MV5BMjAwMz...</td>\n",
       "      <td>Gramercy Pictures</td>\n",
       "      <td>[{'Source': 'Internet Movie Database', 'Value'...</td>\n",
       "      <td>Nick Antosca, Sarah Cornwell, Ben Ketai</td>\n",
       "    </tr>\n",
       "    <tr>\n",
       "      <th>1</th>\n",
       "      <td>Alycia Debnam-Carey, William Moseley, Connor P...</td>\n",
       "      <td>$3,758,792</td>\n",
       "      <td>Simon Verhoeven</td>\n",
       "      <td>https://m.media-amazon.com/images/M/MV5BNGFhZj...</td>\n",
       "      <td>Entertainment Studios Motion Pictures</td>\n",
       "      <td>[{'Source': 'Internet Movie Database', 'Value'...</td>\n",
       "      <td>Matthew Ballen, Philip Koch, Simon Verhoeven</td>\n",
       "    </tr>\n",
       "    <tr>\n",
       "      <th>2</th>\n",
       "      <td>John Krasinski, James Badge Dale, Pablo Schrei...</td>\n",
       "      <td>$37,978,162</td>\n",
       "      <td>Michael Bay</td>\n",
       "      <td>https://m.media-amazon.com/images/M/MV5BYjY0OW...</td>\n",
       "      <td>Paramount Pictures</td>\n",
       "      <td>[{'Source': 'Internet Movie Database', 'Value'...</td>\n",
       "      <td>Chuck Hogan (screenplay), Mitchell Zuckoff (book)</td>\n",
       "    </tr>\n",
       "    <tr>\n",
       "      <th>3</th>\n",
       "      <td>Chloë Grace Moretz, Matthew Zuk, Gabriela Lope...</td>\n",
       "      <td>N/A</td>\n",
       "      <td>J Blakeson</td>\n",
       "      <td>https://m.media-amazon.com/images/M/MV5BMjQwOT...</td>\n",
       "      <td>Sony Pictures</td>\n",
       "      <td>[{'Source': 'Internet Movie Database', 'Value'...</td>\n",
       "      <td>Susannah Grant (screenplay by), Akiva Goldsman...</td>\n",
       "    </tr>\n",
       "    <tr>\n",
       "      <th>4</th>\n",
       "      <td>Rob Schneider, Heather Graham, Ken Jeong, Bill...</td>\n",
       "      <td>$12,320,716</td>\n",
       "      <td>Trevor Wall</td>\n",
       "      <td>https://m.media-amazon.com/images/M/MV5BNTY4MD...</td>\n",
       "      <td>Lionsgate</td>\n",
       "      <td>[{'Source': 'Internet Movie Database', 'Value'...</td>\n",
       "      <td>Daniel Altiere, Steven Altiere, Malcolm T. Gol...</td>\n",
       "    </tr>\n",
       "  </tbody>\n",
       "</table>\n",
       "</div>"
      ],
      "text/plain": [
       "                                              actors    boxoffice  \\\n",
       "0  Natalie Dormer, Eoin Macken, Stephanie Vogt, O...  $21,818,536   \n",
       "1  Alycia Debnam-Carey, William Moseley, Connor P...   $3,758,792   \n",
       "2  John Krasinski, James Badge Dale, Pablo Schrei...  $37,978,162   \n",
       "3  Chloë Grace Moretz, Matthew Zuk, Gabriela Lope...          N/A   \n",
       "4  Rob Schneider, Heather Graham, Ken Jeong, Bill...  $12,320,716   \n",
       "\n",
       "          director                                        poster_link  \\\n",
       "0       Jason Zada  https://m.media-amazon.com/images/M/MV5BMjAwMz...   \n",
       "1  Simon Verhoeven  https://m.media-amazon.com/images/M/MV5BNGFhZj...   \n",
       "2      Michael Bay  https://m.media-amazon.com/images/M/MV5BYjY0OW...   \n",
       "3       J Blakeson  https://m.media-amazon.com/images/M/MV5BMjQwOT...   \n",
       "4      Trevor Wall  https://m.media-amazon.com/images/M/MV5BNTY4MD...   \n",
       "\n",
       "                      production_company  \\\n",
       "0                      Gramercy Pictures   \n",
       "1  Entertainment Studios Motion Pictures   \n",
       "2                     Paramount Pictures   \n",
       "3                          Sony Pictures   \n",
       "4                              Lionsgate   \n",
       "\n",
       "                                             ratings  \\\n",
       "0  [{'Source': 'Internet Movie Database', 'Value'...   \n",
       "1  [{'Source': 'Internet Movie Database', 'Value'...   \n",
       "2  [{'Source': 'Internet Movie Database', 'Value'...   \n",
       "3  [{'Source': 'Internet Movie Database', 'Value'...   \n",
       "4  [{'Source': 'Internet Movie Database', 'Value'...   \n",
       "\n",
       "                                              writer  \n",
       "0            Nick Antosca, Sarah Cornwell, Ben Ketai  \n",
       "1       Matthew Ballen, Philip Koch, Simon Verhoeven  \n",
       "2  Chuck Hogan (screenplay), Mitchell Zuckoff (book)  \n",
       "3  Susannah Grant (screenplay by), Akiva Goldsman...  \n",
       "4  Daniel Altiere, Steven Altiere, Malcolm T. Gol...  "
      ]
     },
     "execution_count": 96,
     "metadata": {},
     "output_type": "execute_result"
    }
   ],
   "source": [
    "scrape_df.head()"
   ]
  },
  {
   "cell_type": "code",
   "execution_count": 98,
   "metadata": {},
   "outputs": [],
   "source": [
    "scrape_df.to_csv(\"movie_scraped_data.csv\")"
   ]
  },
  {
   "cell_type": "markdown",
   "metadata": {},
   "source": [
    "# SQLITE"
   ]
  },
  {
   "cell_type": "code",
   "execution_count": null,
   "metadata": {},
   "outputs": [],
   "source": [
    "# Create movie_metadata and scraped_data classes\n",
    "# ----------------------------------\n",
    "class Surfer(Base):\n",
    "    __tablename__ = 'surfers'\n",
    "    id = Column(Integer, primary_key=True)\n",
    "    name = Column(String(255))\n",
    "    hometown = Column(String(255))\n",
    "    wipeouts = Column(Integer)\n",
    "    rank = Column(Integer)\n",
    "\n",
    "class Board(Base):\n",
    "    __tablename__ = 'surfboards'\n",
    "    id = Column(Integer, primary_key=True)\n",
    "    surfer_id = Column(Integer)\n",
    "    board_name = Column(String(255))\n",
    "    color = Column(String(255))\n",
    "    length = Column(Integer)"
   ]
  },
  {
   "cell_type": "code",
   "execution_count": null,
   "metadata": {},
   "outputs": [],
   "source": []
  }
 ],
 "metadata": {
  "kernelspec": {
   "display_name": "Python 3",
   "language": "python",
   "name": "python3"
  },
  "language_info": {
   "codemirror_mode": {
    "name": "ipython",
    "version": 3
   },
   "file_extension": ".py",
   "mimetype": "text/x-python",
   "name": "python",
   "nbconvert_exporter": "python",
   "pygments_lexer": "ipython3",
   "version": "3.7.1"
  }
 },
 "nbformat": 4,
 "nbformat_minor": 2
}
